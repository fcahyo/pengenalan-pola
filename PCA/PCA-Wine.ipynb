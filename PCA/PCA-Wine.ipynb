{
 "cells": [
  {
   "cell_type": "markdown",
   "metadata": {},
   "source": [
    "## Import package yang diperlukan"
   ]
  },
  {
   "cell_type": "code",
   "execution_count": 1,
   "metadata": {},
   "outputs": [],
   "source": [
    "#analysis\n",
    "import numpy as np\n",
    "import pandas as pd\n",
    "\n",
    "#visualization\n",
    "import matplotlib.pyplot as plt\n",
    "%matplotlib inline\n",
    "import seaborn as sns\n",
    "sns.set_style('whitegrid')"
   ]
  },
  {
   "cell_type": "markdown",
   "metadata": {},
   "source": [
    "## Data\n",
    "\n",
    "Dataset yang digunakan adalah data <font color=red>_wine_</font> yang ada di __UCI Machine Learning Repository__.\n",
    "\n",
    "- Data ini merupakan hasil analisis kimia dari 3 jenis anggur (wine) yang tumbuh di Italia.\n",
    "- Memiliki 1 label yaitu Wine class (jenis anggur) yang dibagi menjadi 3 kelas (1, 2, 3).\n",
    "- Dan 13 fitur yaitu:\n",
    "  1. Alcohol   \n",
    "  2. Malic acid \n",
    "  3. Ash \n",
    "  4. Alcalinity of ash \n",
    "  5. Magnesium \n",
    "  6. Total phenols \n",
    "  7. Flavanoids \n",
    "  8. Nonflavanoid phenols \n",
    "  9. Proanthocyanins \n",
    "  10. Color intensity \n",
    "  11. Hue \n",
    "  12. OD280/OD315 of diluted wines \n",
    "  13. Proline "
   ]
  },
  {
   "cell_type": "code",
   "execution_count": 2,
   "metadata": {},
   "outputs": [
    {
     "data": {
      "text/html": [
       "<div>\n",
       "<style scoped>\n",
       "    .dataframe tbody tr th:only-of-type {\n",
       "        vertical-align: middle;\n",
       "    }\n",
       "\n",
       "    .dataframe tbody tr th {\n",
       "        vertical-align: top;\n",
       "    }\n",
       "\n",
       "    .dataframe thead th {\n",
       "        text-align: right;\n",
       "    }\n",
       "</style>\n",
       "<table border=\"1\" class=\"dataframe\">\n",
       "  <thead>\n",
       "    <tr style=\"text-align: right;\">\n",
       "      <th></th>\n",
       "      <th>Wine class</th>\n",
       "      <th>Alcohol</th>\n",
       "      <th>Malic acid</th>\n",
       "      <th>Ash</th>\n",
       "      <th>Alcalinity of ash</th>\n",
       "      <th>Magnesium</th>\n",
       "      <th>Total phenols</th>\n",
       "      <th>Flavanoids</th>\n",
       "      <th>Nonflavanoid phenols</th>\n",
       "      <th>Proanthocyanins</th>\n",
       "      <th>Color intensity</th>\n",
       "      <th>Hue</th>\n",
       "      <th>OD280/OD315 of diluted wines</th>\n",
       "      <th>Proline</th>\n",
       "    </tr>\n",
       "  </thead>\n",
       "  <tbody>\n",
       "    <tr>\n",
       "      <th>0</th>\n",
       "      <td>1</td>\n",
       "      <td>14.23</td>\n",
       "      <td>1.71</td>\n",
       "      <td>2.43</td>\n",
       "      <td>15.6</td>\n",
       "      <td>127</td>\n",
       "      <td>2.80</td>\n",
       "      <td>3.06</td>\n",
       "      <td>0.28</td>\n",
       "      <td>2.29</td>\n",
       "      <td>5.64</td>\n",
       "      <td>1.04</td>\n",
       "      <td>3.92</td>\n",
       "      <td>1065</td>\n",
       "    </tr>\n",
       "    <tr>\n",
       "      <th>1</th>\n",
       "      <td>1</td>\n",
       "      <td>13.20</td>\n",
       "      <td>1.78</td>\n",
       "      <td>2.14</td>\n",
       "      <td>11.2</td>\n",
       "      <td>100</td>\n",
       "      <td>2.65</td>\n",
       "      <td>2.76</td>\n",
       "      <td>0.26</td>\n",
       "      <td>1.28</td>\n",
       "      <td>4.38</td>\n",
       "      <td>1.05</td>\n",
       "      <td>3.40</td>\n",
       "      <td>1050</td>\n",
       "    </tr>\n",
       "    <tr>\n",
       "      <th>2</th>\n",
       "      <td>1</td>\n",
       "      <td>13.16</td>\n",
       "      <td>2.36</td>\n",
       "      <td>2.67</td>\n",
       "      <td>18.6</td>\n",
       "      <td>101</td>\n",
       "      <td>2.80</td>\n",
       "      <td>3.24</td>\n",
       "      <td>0.30</td>\n",
       "      <td>2.81</td>\n",
       "      <td>5.68</td>\n",
       "      <td>1.03</td>\n",
       "      <td>3.17</td>\n",
       "      <td>1185</td>\n",
       "    </tr>\n",
       "    <tr>\n",
       "      <th>3</th>\n",
       "      <td>1</td>\n",
       "      <td>14.37</td>\n",
       "      <td>1.95</td>\n",
       "      <td>2.50</td>\n",
       "      <td>16.8</td>\n",
       "      <td>113</td>\n",
       "      <td>3.85</td>\n",
       "      <td>3.49</td>\n",
       "      <td>0.24</td>\n",
       "      <td>2.18</td>\n",
       "      <td>7.80</td>\n",
       "      <td>0.86</td>\n",
       "      <td>3.45</td>\n",
       "      <td>1480</td>\n",
       "    </tr>\n",
       "    <tr>\n",
       "      <th>4</th>\n",
       "      <td>1</td>\n",
       "      <td>13.24</td>\n",
       "      <td>2.59</td>\n",
       "      <td>2.87</td>\n",
       "      <td>21.0</td>\n",
       "      <td>118</td>\n",
       "      <td>2.80</td>\n",
       "      <td>2.69</td>\n",
       "      <td>0.39</td>\n",
       "      <td>1.82</td>\n",
       "      <td>4.32</td>\n",
       "      <td>1.04</td>\n",
       "      <td>2.93</td>\n",
       "      <td>735</td>\n",
       "    </tr>\n",
       "  </tbody>\n",
       "</table>\n",
       "</div>"
      ],
      "text/plain": [
       "   Wine class  Alcohol  Malic acid   Ash  Alcalinity of ash  Magnesium  \\\n",
       "0           1    14.23        1.71  2.43               15.6        127   \n",
       "1           1    13.20        1.78  2.14               11.2        100   \n",
       "2           1    13.16        2.36  2.67               18.6        101   \n",
       "3           1    14.37        1.95  2.50               16.8        113   \n",
       "4           1    13.24        2.59  2.87               21.0        118   \n",
       "\n",
       "   Total phenols  Flavanoids  Nonflavanoid phenols  Proanthocyanins  \\\n",
       "0           2.80        3.06                  0.28             2.29   \n",
       "1           2.65        2.76                  0.26             1.28   \n",
       "2           2.80        3.24                  0.30             2.81   \n",
       "3           3.85        3.49                  0.24             2.18   \n",
       "4           2.80        2.69                  0.39             1.82   \n",
       "\n",
       "   Color intensity   Hue  OD280/OD315 of diluted wines  Proline   \n",
       "0             5.64  1.04                          3.92      1065  \n",
       "1             4.38  1.05                          3.40      1050  \n",
       "2             5.68  1.03                          3.17      1185  \n",
       "3             7.80  0.86                          3.45      1480  \n",
       "4             4.32  1.04                          2.93       735  "
      ]
     },
     "execution_count": 2,
     "metadata": {},
     "output_type": "execute_result"
    }
   ],
   "source": [
    "df = pd.read_csv('https://archive.ics.uci.edu/ml/machine-learning-databases/wine/wine.data', \n",
    "                 names=['Wine class', 'Alcohol', 'Malic acid', 'Ash', 'Alcalinity of ash', 'Magnesium', 'Total phenols', 'Flavanoids', \n",
    "                        'Nonflavanoid phenols', 'Proanthocyanins', 'Color intensity', 'Hue', 'OD280/OD315 of diluted wines', \n",
    "                        'Proline '])\n",
    "df.head()"
   ]
  },
  {
   "cell_type": "markdown",
   "metadata": {},
   "source": [
    "Kemudian, kolom 'Wine class' dapat diubah menjadi 'Class' agar lebih sederhana."
   ]
  },
  {
   "cell_type": "code",
   "execution_count": 3,
   "metadata": {},
   "outputs": [],
   "source": [
    "df.rename(columns={'Wine class' : 'Class'}, inplace=True)"
   ]
  },
  {
   "cell_type": "code",
   "execution_count": 4,
   "metadata": {},
   "outputs": [
    {
     "data": {
      "text/html": [
       "<div>\n",
       "<style scoped>\n",
       "    .dataframe tbody tr th:only-of-type {\n",
       "        vertical-align: middle;\n",
       "    }\n",
       "\n",
       "    .dataframe tbody tr th {\n",
       "        vertical-align: top;\n",
       "    }\n",
       "\n",
       "    .dataframe thead th {\n",
       "        text-align: right;\n",
       "    }\n",
       "</style>\n",
       "<table border=\"1\" class=\"dataframe\">\n",
       "  <thead>\n",
       "    <tr style=\"text-align: right;\">\n",
       "      <th></th>\n",
       "      <th>Class</th>\n",
       "      <th>Alcohol</th>\n",
       "      <th>Malic acid</th>\n",
       "      <th>Ash</th>\n",
       "      <th>Alcalinity of ash</th>\n",
       "      <th>Magnesium</th>\n",
       "      <th>Total phenols</th>\n",
       "      <th>Flavanoids</th>\n",
       "      <th>Nonflavanoid phenols</th>\n",
       "      <th>Proanthocyanins</th>\n",
       "      <th>Color intensity</th>\n",
       "      <th>Hue</th>\n",
       "      <th>OD280/OD315 of diluted wines</th>\n",
       "      <th>Proline</th>\n",
       "    </tr>\n",
       "  </thead>\n",
       "  <tbody>\n",
       "    <tr>\n",
       "      <th>0</th>\n",
       "      <td>1</td>\n",
       "      <td>14.23</td>\n",
       "      <td>1.71</td>\n",
       "      <td>2.43</td>\n",
       "      <td>15.6</td>\n",
       "      <td>127</td>\n",
       "      <td>2.80</td>\n",
       "      <td>3.06</td>\n",
       "      <td>0.28</td>\n",
       "      <td>2.29</td>\n",
       "      <td>5.64</td>\n",
       "      <td>1.04</td>\n",
       "      <td>3.92</td>\n",
       "      <td>1065</td>\n",
       "    </tr>\n",
       "    <tr>\n",
       "      <th>1</th>\n",
       "      <td>1</td>\n",
       "      <td>13.20</td>\n",
       "      <td>1.78</td>\n",
       "      <td>2.14</td>\n",
       "      <td>11.2</td>\n",
       "      <td>100</td>\n",
       "      <td>2.65</td>\n",
       "      <td>2.76</td>\n",
       "      <td>0.26</td>\n",
       "      <td>1.28</td>\n",
       "      <td>4.38</td>\n",
       "      <td>1.05</td>\n",
       "      <td>3.40</td>\n",
       "      <td>1050</td>\n",
       "    </tr>\n",
       "    <tr>\n",
       "      <th>2</th>\n",
       "      <td>1</td>\n",
       "      <td>13.16</td>\n",
       "      <td>2.36</td>\n",
       "      <td>2.67</td>\n",
       "      <td>18.6</td>\n",
       "      <td>101</td>\n",
       "      <td>2.80</td>\n",
       "      <td>3.24</td>\n",
       "      <td>0.30</td>\n",
       "      <td>2.81</td>\n",
       "      <td>5.68</td>\n",
       "      <td>1.03</td>\n",
       "      <td>3.17</td>\n",
       "      <td>1185</td>\n",
       "    </tr>\n",
       "    <tr>\n",
       "      <th>3</th>\n",
       "      <td>1</td>\n",
       "      <td>14.37</td>\n",
       "      <td>1.95</td>\n",
       "      <td>2.50</td>\n",
       "      <td>16.8</td>\n",
       "      <td>113</td>\n",
       "      <td>3.85</td>\n",
       "      <td>3.49</td>\n",
       "      <td>0.24</td>\n",
       "      <td>2.18</td>\n",
       "      <td>7.80</td>\n",
       "      <td>0.86</td>\n",
       "      <td>3.45</td>\n",
       "      <td>1480</td>\n",
       "    </tr>\n",
       "    <tr>\n",
       "      <th>4</th>\n",
       "      <td>1</td>\n",
       "      <td>13.24</td>\n",
       "      <td>2.59</td>\n",
       "      <td>2.87</td>\n",
       "      <td>21.0</td>\n",
       "      <td>118</td>\n",
       "      <td>2.80</td>\n",
       "      <td>2.69</td>\n",
       "      <td>0.39</td>\n",
       "      <td>1.82</td>\n",
       "      <td>4.32</td>\n",
       "      <td>1.04</td>\n",
       "      <td>2.93</td>\n",
       "      <td>735</td>\n",
       "    </tr>\n",
       "  </tbody>\n",
       "</table>\n",
       "</div>"
      ],
      "text/plain": [
       "   Class  Alcohol  Malic acid   Ash  Alcalinity of ash  Magnesium  \\\n",
       "0      1    14.23        1.71  2.43               15.6        127   \n",
       "1      1    13.20        1.78  2.14               11.2        100   \n",
       "2      1    13.16        2.36  2.67               18.6        101   \n",
       "3      1    14.37        1.95  2.50               16.8        113   \n",
       "4      1    13.24        2.59  2.87               21.0        118   \n",
       "\n",
       "   Total phenols  Flavanoids  Nonflavanoid phenols  Proanthocyanins  \\\n",
       "0           2.80        3.06                  0.28             2.29   \n",
       "1           2.65        2.76                  0.26             1.28   \n",
       "2           2.80        3.24                  0.30             2.81   \n",
       "3           3.85        3.49                  0.24             2.18   \n",
       "4           2.80        2.69                  0.39             1.82   \n",
       "\n",
       "   Color intensity   Hue  OD280/OD315 of diluted wines  Proline   \n",
       "0             5.64  1.04                          3.92      1065  \n",
       "1             4.38  1.05                          3.40      1050  \n",
       "2             5.68  1.03                          3.17      1185  \n",
       "3             7.80  0.86                          3.45      1480  \n",
       "4             4.32  1.04                          2.93       735  "
      ]
     },
     "execution_count": 4,
     "metadata": {},
     "output_type": "execute_result"
    }
   ],
   "source": [
    "df.head()"
   ]
  },
  {
   "cell_type": "markdown",
   "metadata": {},
   "source": [
    "Misal, kita ingin mengetahui berapa jumlah tiap jenis Wine."
   ]
  },
  {
   "cell_type": "code",
   "execution_count": 5,
   "metadata": {},
   "outputs": [
    {
     "name": "stdout",
     "output_type": "stream",
     "text": [
      "Frekuensi Jenis Anggur\n",
      "Kelas 1: 33.15%\n",
      "Kelas 2: 39.89%\n",
      "Kelas 3: 26.97%\n"
     ]
    }
   ],
   "source": [
    "print('Frekuensi Jenis Anggur')\n",
    "print('Kelas 1: %s%%' %np.round(df['Class'][df['Class'] == 1].count() / len (df) * 100, decimals=2))\n",
    "print('Kelas 2: %s%%' %np.round(df['Class'][df['Class'] == 2].count() / len (df) * 100, decimals=2))\n",
    "print('Kelas 3: %s%%' %np.round(df['Class'][df['Class'] == 3].count() / len (df) * 100, decimals=2))"
   ]
  },
  {
   "cell_type": "code",
   "execution_count": 6,
   "metadata": {},
   "outputs": [
    {
     "data": {
      "text/plain": [
       "3    48\n",
       "1    59\n",
       "2    71\n",
       "Name: Class, dtype: int64"
      ]
     },
     "execution_count": 6,
     "metadata": {},
     "output_type": "execute_result"
    }
   ],
   "source": [
    "df['Class'].value_counts().sort_values(ascending=True)"
   ]
  },
  {
   "cell_type": "code",
   "execution_count": 7,
   "metadata": {},
   "outputs": [
    {
     "data": {
      "text/plain": [
       "<matplotlib.axes._subplots.AxesSubplot at 0x24048bfbef0>"
      ]
     },
     "execution_count": 7,
     "metadata": {},
     "output_type": "execute_result"
    },
    {
     "data": {
      "image/png": "[encoded data removed]",
      "text/plain": [
       "<Figure size 432x288 with 1 Axes>"
      ]
     },
     "metadata": {},
     "output_type": "display_data"
    }
   ],
   "source": [
    "sns.countplot(x='Class', data=df)"
   ]
  },
  {
   "cell_type": "markdown",
   "metadata": {},
   "source": [
    "Membagi data menjadi fitur X dan kelas y"
   ]
  },
  {
   "cell_type": "code",
   "execution_count": 8,
   "metadata": {},
   "outputs": [],
   "source": [
    "X = df.iloc[:,1:].values\n",
    "y = df.iloc[:,:1].values"
   ]
  },
  {
   "cell_type": "code",
   "execution_count": 9,
   "metadata": {},
   "outputs": [
    {
     "data": {
      "text/plain": [
       "((178, 13), (178, 1))"
      ]
     },
     "execution_count": 9,
     "metadata": {},
     "output_type": "execute_result"
    }
   ],
   "source": [
    "X.shape, y.shape"
   ]
  },
  {
   "cell_type": "markdown",
   "metadata": {},
   "source": [
    "Menstardardisasi data"
   ]
  },
  {
   "cell_type": "code",
   "execution_count": 10,
   "metadata": {},
   "outputs": [],
   "source": [
    "from sklearn.preprocessing import StandardScaler\n",
    "X_std = StandardScaler().fit_transform(X)"
   ]
  },
  {
   "cell_type": "code",
   "execution_count": 11,
   "metadata": {},
   "outputs": [
    {
     "data": {
      "text/plain": [
       "array([[ 1.51861254, -0.5622498 ,  0.23205254, ...,  0.36217728,\n",
       "         1.84791957,  1.01300893],\n",
       "       [ 0.24628963, -0.49941338, -0.82799632, ...,  0.40605066,\n",
       "         1.1134493 ,  0.96524152],\n",
       "       [ 0.19687903,  0.02123125,  1.10933436, ...,  0.31830389,\n",
       "         0.78858745,  1.39514818],\n",
       "       ...,\n",
       "       [ 0.33275817,  1.74474449, -0.38935541, ..., -1.61212515,\n",
       "        -1.48544548,  0.28057537],\n",
       "       [ 0.20923168,  0.22769377,  0.01273209, ..., -1.56825176,\n",
       "        -1.40069891,  0.29649784],\n",
       "       [ 1.39508604,  1.58316512,  1.36520822, ..., -1.52437837,\n",
       "        -1.42894777, -0.59516041]])"
      ]
     },
     "execution_count": 11,
     "metadata": {},
     "output_type": "execute_result"
    }
   ],
   "source": [
    "X_std"
   ]
  },
  {
   "cell_type": "code",
   "execution_count": 22,
   "metadata": {},
   "outputs": [
    {
     "data": {
      "text/plain": [
       "178"
      ]
     },
     "execution_count": 22,
     "metadata": {},
     "output_type": "execute_result"
    }
   ],
   "source": [
    "X_std.shape[0]"
   ]
  },
  {
   "cell_type": "markdown",
   "metadata": {},
   "source": [
    "Menghitung matrix covarians"
   ]
  },
  {
   "cell_type": "code",
   "execution_count": 13,
   "metadata": {},
   "outputs": [
    {
     "name": "stdout",
     "output_type": "stream",
     "text": [
      "Matriks covarians \n",
      "[[ 1.00564972  0.09493026  0.21273976 -0.31198788  0.27232816  0.29073446\n",
      "   0.23815287 -0.15681042  0.13747022  0.549451   -0.07215255  0.07275191\n",
      "   0.64735687]\n",
      " [ 0.09493026  1.00564972  0.16497228  0.29013035 -0.05488343 -0.3370606\n",
      "  -0.41332866  0.29463237 -0.22199334  0.25039204 -0.56446685 -0.37079354\n",
      "  -0.19309537]\n",
      " [ 0.21273976  0.16497228  1.00564972  0.44587209  0.28820583  0.12970824\n",
      "   0.11572743  0.1872826   0.00970647  0.2603499  -0.07508874  0.00393333\n",
      "   0.22488969]\n",
      " [-0.31198788  0.29013035  0.44587209  1.00564972 -0.0838039  -0.32292752\n",
      "  -0.353355    0.36396647 -0.19844168  0.01883781 -0.27550299 -0.27833221\n",
      "  -0.44308618]\n",
      " [ 0.27232816 -0.05488343  0.28820583 -0.0838039   1.00564972  0.21561254\n",
      "   0.19688989 -0.25774204  0.23777643  0.20107967  0.05571118  0.06637684\n",
      "   0.39557317]\n",
      " [ 0.29073446 -0.3370606   0.12970824 -0.32292752  0.21561254  1.00564972\n",
      "   0.86944804 -0.45247731  0.61587304 -0.05544792  0.43613151  0.70390388\n",
      "   0.50092909]\n",
      " [ 0.23815287 -0.41332866  0.11572743 -0.353355    0.19688989  0.86944804\n",
      "   1.00564972 -0.54093859  0.65637929 -0.17335329  0.54654907  0.79164133\n",
      "   0.49698518]\n",
      " [-0.15681042  0.29463237  0.1872826   0.36396647 -0.25774204 -0.45247731\n",
      "  -0.54093859  1.00564972 -0.36791202  0.13984265 -0.26412347 -0.50611293\n",
      "  -0.31314443]\n",
      " [ 0.13747022 -0.22199334  0.00970647 -0.19844168  0.23777643  0.61587304\n",
      "   0.65637929 -0.36791202  1.00564972 -0.02539259  0.29721399  0.52199968\n",
      "   0.33228346]\n",
      " [ 0.549451    0.25039204  0.2603499   0.01883781  0.20107967 -0.05544792\n",
      "  -0.17335329  0.13984265 -0.02539259  1.00564972 -0.52476129 -0.43123763\n",
      "   0.31788599]\n",
      " [-0.07215255 -0.56446685 -0.07508874 -0.27550299  0.05571118  0.43613151\n",
      "   0.54654907 -0.26412347  0.29721399 -0.52476129  1.00564972  0.56866303\n",
      "   0.23751782]\n",
      " [ 0.07275191 -0.37079354  0.00393333 -0.27833221  0.06637684  0.70390388\n",
      "   0.79164133 -0.50611293  0.52199968 -0.43123763  0.56866303  1.00564972\n",
      "   0.31452809]\n",
      " [ 0.64735687 -0.19309537  0.22488969 -0.44308618  0.39557317  0.50092909\n",
      "   0.49698518 -0.31314443  0.33228346  0.31788599  0.23751782  0.31452809\n",
      "   1.00564972]]\n"
     ]
    }
   ],
   "source": [
    "mean_vec = np.mean(X_std, axis=0)\n",
    "cov_mat = (((X_std - mean_vec).T).dot(X_std - mean_vec)) / (X_std.shape[0]-1)\n",
    "print('Matriks covarians \\n%s' %cov_mat)"
   ]
  },
  {
   "cell_type": "markdown",
   "metadata": {},
   "source": [
    "Menghitung eigen value dan eigen vector"
   ]
  },
  {
   "cell_type": "code",
   "execution_count": 14,
   "metadata": {},
   "outputs": [
    {
     "name": "stdout",
     "output_type": "stream",
     "text": [
      "Eigen vectors \n",
      "[[-0.1443294   0.48365155 -0.20738262  0.0178563  -0.26566365  0.21353865\n",
      "   0.05639636 -0.01496997  0.39613926 -0.26628645 -0.50861912 -0.22591696\n",
      "   0.21160473]\n",
      " [ 0.24518758  0.22493093  0.08901289 -0.53689028  0.03521363  0.53681385\n",
      "  -0.42052391 -0.02596375  0.06582674  0.12169604  0.07528304  0.07648554\n",
      "  -0.30907994]\n",
      " [ 0.00205106  0.31606881  0.6262239   0.21417556 -0.14302547  0.15447466\n",
      "   0.14917061  0.14121803 -0.17026002 -0.04962237  0.30769445 -0.49869142\n",
      "  -0.02712539]\n",
      " [ 0.23932041 -0.0105905   0.61208035 -0.06085941  0.06610294 -0.10082451\n",
      "   0.28696914 -0.09168285  0.42797018 -0.05574287 -0.20044931  0.47931378\n",
      "   0.05279942]\n",
      " [-0.14199204  0.299634    0.13075693  0.35179658  0.72704851  0.03814394\n",
      "  -0.3228833  -0.05677422 -0.15636143  0.06222011 -0.27140257  0.07128891\n",
      "   0.06787022]\n",
      " [-0.39466085  0.06503951  0.14617896 -0.19806835 -0.14931841 -0.0841223\n",
      "   0.02792498  0.46390791 -0.40593409 -0.30388245 -0.28603452  0.30434119\n",
      "  -0.32013135]\n",
      " [-0.4229343  -0.00335981  0.1506819  -0.15229479 -0.10902584 -0.01892002\n",
      "   0.06068521 -0.83225706 -0.18724536 -0.04289883 -0.04957849 -0.02569409\n",
      "  -0.16315051]\n",
      " [ 0.2985331   0.02877949  0.17036816  0.20330102 -0.50070298 -0.25859401\n",
      "  -0.59544729 -0.11403985 -0.23328465  0.04235219 -0.19550132  0.11689586\n",
      "   0.21553507]\n",
      " [-0.31342949  0.03930172  0.14945431 -0.39905653  0.13685982 -0.53379539\n",
      "  -0.37213935  0.11691707  0.36822675 -0.09555303  0.20914487 -0.23736257\n",
      "   0.1341839 ]\n",
      " [ 0.0886167   0.52999567 -0.13730621 -0.06592568 -0.07643678 -0.41864414\n",
      "   0.22771214  0.0119928  -0.03379692  0.60422163 -0.05621752  0.0318388\n",
      "  -0.29077518]\n",
      " [-0.29671456 -0.27923515  0.08522192  0.42777141 -0.17361452  0.10598274\n",
      "  -0.23207564  0.08988884  0.43662362  0.259214   -0.08582839 -0.04821201\n",
      "  -0.52239889]\n",
      " [-0.37616741 -0.16449619  0.16600459 -0.18412074 -0.10116099  0.26585107\n",
      "   0.0447637   0.15671813 -0.07810789  0.60095872 -0.1372269   0.0464233\n",
      "   0.52370587]\n",
      " [-0.28675223  0.36490283 -0.12674592  0.23207086 -0.1578688   0.11972557\n",
      "  -0.0768045  -0.01444734  0.12002267 -0.07940162  0.57578611  0.53926983\n",
      "   0.162116  ]]\n",
      "\n",
      "Eigen values \n",
      "[4.73243698 2.51108093 1.45424187 0.92416587 0.85804868 0.64528221\n",
      " 0.55414147 0.10396199 0.35046627 0.16972374 0.29051203 0.22706428\n",
      " 0.25232001]\n"
     ]
    }
   ],
   "source": [
    "eig_vals, eig_vecs = np.linalg.eig(cov_mat)\n",
    "\n",
    "print('Eigen vectors \\n%s' %eig_vecs)\n",
    "print('\\nEigen values \\n%s' %eig_vals)"
   ]
  },
  {
   "cell_type": "code",
   "execution_count": 15,
   "metadata": {},
   "outputs": [
    {
     "name": "stdout",
     "output_type": "stream",
     "text": [
      "Eigen values dari yang terbesar:\n",
      "4.732436977583593\n",
      "2.5110809296451224\n",
      "1.454241867846469\n",
      "0.9241658668248741\n",
      "0.8580486765371109\n",
      "0.6452822124678539\n",
      "0.5541414662457841\n",
      "0.10396199182075298\n",
      "0.3504662749462547\n",
      "0.16972373898012144\n",
      "0.29051203269397685\n",
      "0.22706428173088525\n",
      "0.2523200103608253\n"
     ]
    }
   ],
   "source": [
    "eig_pairs = [(np.abs(eig_vals[i]), eig_vecs[:,i]) for i in range(len(eig_vals))]\n",
    "print('Eigen values dari yang terbesar:')\n",
    "for i in eig_pairs:\n",
    "    print(i[0])"
   ]
  },
  {
   "cell_type": "code",
   "execution_count": 16,
   "metadata": {},
   "outputs": [
    {
     "name": "stdout",
     "output_type": "stream",
     "text": [
      "Matrix W:\n",
      " [[-0.1443294   0.48365155]\n",
      " [ 0.24518758  0.22493093]\n",
      " [ 0.00205106  0.31606881]\n",
      " [ 0.23932041 -0.0105905 ]\n",
      " [-0.14199204  0.299634  ]\n",
      " [-0.39466085  0.06503951]\n",
      " [-0.4229343  -0.00335981]\n",
      " [ 0.2985331   0.02877949]\n",
      " [-0.31342949  0.03930172]\n",
      " [ 0.0886167   0.52999567]\n",
      " [-0.29671456 -0.27923515]\n",
      " [-0.37616741 -0.16449619]\n",
      " [-0.28675223  0.36490283]]\n"
     ]
    }
   ],
   "source": [
    "matrix_w = np.hstack((eig_pairs[0][1].reshape(13,1), \n",
    "                      eig_pairs[1][1].reshape(13,1)))\n",
    "print('Matrix W:\\n', matrix_w)"
   ]
  },
  {
   "cell_type": "code",
   "execution_count": 17,
   "metadata": {},
   "outputs": [],
   "source": [
    "X_new = X_std.dot(matrix_w)"
   ]
  },
  {
   "cell_type": "code",
   "execution_count": 18,
   "metadata": {},
   "outputs": [
    {
     "data": {
      "text/plain": [
       "array([[-3.31675081,  1.44346263],\n",
       "       [-2.20946492, -0.33339289],\n",
       "       [-2.51674015,  1.0311513 ],\n",
       "       [-3.75706561,  2.75637191],\n",
       "       [-1.00890849,  0.86983082],\n",
       "       [-3.05025392,  2.12240111],\n",
       "       [-2.44908967,  1.17485013],\n",
       "       [-2.05943687,  1.60896307],\n",
       "       [-2.5108743 ,  0.91807096],\n",
       "       [-2.75362819,  0.78943767],\n",
       "       [-3.47973668,  1.30233324],\n",
       "       [-1.7547529 ,  0.61197723],\n",
       "       [-2.11346234,  0.67570634],\n",
       "       [-3.45815682,  1.13062988],\n",
       "       [-4.31278391,  2.09597558],\n",
       "       [-2.3051882 ,  1.66255173],\n",
       "       [-2.17195527,  2.32730534],\n",
       "       [-1.89897118,  1.63136888],\n",
       "       [-3.54198508,  2.51834367],\n",
       "       [-2.0845222 ,  1.06113799],\n",
       "       [-3.12440254,  0.78689711],\n",
       "       [-1.08657007,  0.24174355],\n",
       "       [-2.53522408, -0.09184062],\n",
       "       [-1.64498834, -0.51627893],\n",
       "       [-1.76157587, -0.31714893],\n",
       "       [-0.9900791 ,  0.94066734],\n",
       "       [-1.77527763,  0.68617513],\n",
       "       [-1.23542396, -0.08980704],\n",
       "       [-2.18840633,  0.68956962],\n",
       "       [-2.25610898,  0.19146194],\n",
       "       [-2.50022003,  1.24083383],\n",
       "       [-2.67741105,  1.47187365],\n",
       "       [-1.62857912,  0.05270445],\n",
       "       [-1.90269086,  1.63306043],\n",
       "       [-1.41038853,  0.69793432],\n",
       "       [-1.90382623,  0.17671095],\n",
       "       [-1.38486223,  0.65863985],\n",
       "       [-1.12220741,  0.11410976],\n",
       "       [-1.5021945 , -0.76943201],\n",
       "       [-2.52980109,  1.80300198],\n",
       "       [-2.58809543,  0.7796163 ],\n",
       "       [-0.66848199,  0.16996094],\n",
       "       [-3.07080699,  1.15591896],\n",
       "       [-0.46220914,  0.33074213],\n",
       "       [-2.10135193, -0.07100892],\n",
       "       [-1.13616618,  1.77710739],\n",
       "       [-2.72660096,  1.19133469],\n",
       "       [-2.82133927,  0.6462586 ],\n",
       "       [-2.00985085,  1.24702946],\n",
       "       [-2.7074913 ,  1.75196741],\n",
       "       [-3.21491747,  0.16699199],\n",
       "       [-2.85895983,  0.7452788 ],\n",
       "       [-3.50560436,  1.61273386],\n",
       "       [-2.22479138,  1.875168  ],\n",
       "       [-2.14698782,  1.01675154],\n",
       "       [-2.46932948,  1.32900831],\n",
       "       [-2.74151791,  1.43654878],\n",
       "       [-2.17374092,  1.21219984],\n",
       "       [-3.13938015,  1.73157912],\n",
       "       [ 0.92858197, -3.07348616],\n",
       "       [ 1.54248014, -1.38144351],\n",
       "       [ 1.83624976, -0.82998412],\n",
       "       [-0.03060683, -1.26278614],\n",
       "       [-2.05026161, -1.9250326 ],\n",
       "       [ 0.60968083, -1.90805881],\n",
       "       [-0.90022784, -0.76391147],\n",
       "       [-2.24850719, -1.88459248],\n",
       "       [-0.18338403, -2.42714611],\n",
       "       [ 0.81280503, -0.22051399],\n",
       "       [-1.9756205 , -1.40328323],\n",
       "       [ 1.57221622, -0.88498314],\n",
       "       [-1.65768181, -0.9567122 ],\n",
       "       [ 0.72537239, -1.0636454 ],\n",
       "       [-2.56222717,  0.26019855],\n",
       "       [-1.83256757, -1.2878782 ],\n",
       "       [ 0.8679929 , -2.44410119],\n",
       "       [-0.3700144 , -2.15390698],\n",
       "       [ 1.45737704, -1.38335177],\n",
       "       [-1.26293085, -0.77084953],\n",
       "       [-0.37615037, -1.0270434 ],\n",
       "       [-0.7620639 , -3.37505381],\n",
       "       [-1.03457797, -1.45070974],\n",
       "       [ 0.49487676, -2.38124353],\n",
       "       [ 2.53897708, -0.08744336],\n",
       "       [-0.83532015, -1.47367055],\n",
       "       [-0.78790461, -2.02662652],\n",
       "       [ 0.80683216, -2.23383039],\n",
       "       [ 0.55804262, -2.37298543],\n",
       "       [ 1.11511104, -1.80224719],\n",
       "       [ 0.55572283, -2.65754004],\n",
       "       [ 1.34928528, -2.11800147],\n",
       "       [ 1.56448261, -1.85221452],\n",
       "       [ 1.93255561, -1.55949546],\n",
       "       [-0.74666594, -2.31293171],\n",
       "       [-0.95745536, -2.22352843],\n",
       "       [-2.54386518,  0.16927402],\n",
       "       [ 0.54395259, -0.36892655],\n",
       "       [-1.03104975, -2.56556935],\n",
       "       [-2.25190942, -1.43274138],\n",
       "       [-1.41021602, -2.16619177],\n",
       "       [-0.79771979, -2.3769488 ],\n",
       "       [ 0.54953173, -2.29312864],\n",
       "       [ 0.16117374, -1.16448332],\n",
       "       [ 0.65979494, -2.67996119],\n",
       "       [-0.39235441, -2.09873171],\n",
       "       [ 1.77249908, -1.71728847],\n",
       "       [ 0.36626736, -2.1693533 ],\n",
       "       [ 1.62067257, -1.35558339],\n",
       "       [-0.08253578, -2.30623459],\n",
       "       [-1.57827507, -1.46203429],\n",
       "       [-1.42056925, -1.41820664],\n",
       "       [ 0.27870275, -1.93056809],\n",
       "       [ 1.30314497, -0.76317231],\n",
       "       [ 0.45707187, -2.26941561],\n",
       "       [ 0.49418585, -1.93904505],\n",
       "       [-0.48207441, -3.87178385],\n",
       "       [ 0.25288888, -2.82149237],\n",
       "       [ 0.10722764, -1.92892204],\n",
       "       [ 2.4330126 , -1.25714104],\n",
       "       [ 0.55108954, -2.22216155],\n",
       "       [-0.73962193, -1.40895667],\n",
       "       [-1.33632173,  0.25333693],\n",
       "       [ 1.177087  , -0.66396684],\n",
       "       [ 0.46233501, -0.61828818],\n",
       "       [-0.97847408, -1.4455705 ],\n",
       "       [ 0.09680973, -2.10999799],\n",
       "       [-0.03848715, -1.26676211],\n",
       "       [ 1.5971585 , -1.20814357],\n",
       "       [ 0.47956492, -1.93884066],\n",
       "       [ 1.79283347, -1.1502881 ],\n",
       "       [ 1.32710166,  0.17038923],\n",
       "       [ 2.38450083,  0.37458261],\n",
       "       [ 2.9369401 ,  0.26386183],\n",
       "       [ 2.14681113,  0.36825495],\n",
       "       [ 2.36986949, -0.45963481],\n",
       "       [ 3.06384157,  0.35341284],\n",
       "       [ 3.91575378,  0.15458252],\n",
       "       [ 3.93646339,  0.65968723],\n",
       "       [ 3.09427612,  0.34884276],\n",
       "       [ 2.37447163,  0.29198035],\n",
       "       [ 2.77881295,  0.28680487],\n",
       "       [ 2.28656128,  0.37250784],\n",
       "       [ 2.98563349,  0.48921791],\n",
       "       [ 2.3751947 ,  0.48233372],\n",
       "       [ 2.20986553,  1.1600525 ],\n",
       "       [ 2.625621  ,  0.56316076],\n",
       "       [ 4.28063878,  0.64967096],\n",
       "       [ 3.58264137,  1.27270275],\n",
       "       [ 2.80706372,  1.57053379],\n",
       "       [ 2.89965933,  2.04105701],\n",
       "       [ 2.32073698,  2.35636608],\n",
       "       [ 2.54983095,  2.04528309],\n",
       "       [ 1.81254128,  1.52764595],\n",
       "       [ 2.76014464,  2.13893235],\n",
       "       [ 2.7371505 ,  0.40988627],\n",
       "       [ 3.60486887,  1.80238422],\n",
       "       [ 2.889826  ,  1.92521861],\n",
       "       [ 3.39215608,  1.31187639],\n",
       "       [ 1.0481819 ,  3.51508969],\n",
       "       [ 1.60991228,  2.40663816],\n",
       "       [ 3.14313097,  0.73816104],\n",
       "       [ 2.2401569 ,  1.17546529],\n",
       "       [ 2.84767378,  0.55604397],\n",
       "       [ 2.59749706,  0.69796554],\n",
       "       [ 2.94929937,  1.55530896],\n",
       "       [ 3.53003227,  0.8825268 ],\n",
       "       [ 2.40611054,  2.59235618],\n",
       "       [ 2.92908473,  1.27444695],\n",
       "       [ 2.18141278,  2.07753731],\n",
       "       [ 2.38092779,  2.58866743],\n",
       "       [ 3.21161722, -0.2512491 ],\n",
       "       [ 3.67791872,  0.84774784],\n",
       "       [ 2.4655558 ,  2.1937983 ],\n",
       "       [ 3.37052415,  2.21628914],\n",
       "       [ 2.60195585,  1.75722935],\n",
       "       [ 2.67783946,  2.76089913],\n",
       "       [ 2.38701709,  2.29734668],\n",
       "       [ 3.20875816,  2.76891957]])"
      ]
     },
     "execution_count": 18,
     "metadata": {},
     "output_type": "execute_result"
    }
   ],
   "source": [
    "X_new"
   ]
  },
  {
   "cell_type": "code",
   "execution_count": 19,
   "metadata": {},
   "outputs": [],
   "source": [
    "df['PC1'] = X_new[:,0]\n",
    "df['PC2'] = X_new[:,1]"
   ]
  },
  {
   "cell_type": "code",
   "execution_count": 20,
   "metadata": {},
   "outputs": [
    {
     "data": {
      "text/plain": [
       "<seaborn.axisgrid.FacetGrid at 0x24049fec9e8>"
      ]
     },
     "execution_count": 20,
     "metadata": {},
     "output_type": "execute_result"
    },
    {
     "data": {
      "image/png": "[encoded data removed]",
      "text/plain": [
       "<Figure size 689.625x432 with 1 Axes>"
      ]
     },
     "metadata": {},
     "output_type": "display_data"
    }
   ],
   "source": [
    "sns.lmplot(data = df[['PC1','PC2','Class']], x = 'PC1', y = 'PC2',fit_reg=False, hue = 'Class',\\\n",
    "                 height = 6, aspect=1.5, scatter_kws = {'s':50}, )"
   ]
  }
 ],
 "metadata": {
  "kernelspec": {
   "display_name": "Python 3",
   "language": "python",
   "name": "python3"
  },
  "language_info": {
   "codemirror_mode": {
    "name": "ipython",
    "version": 3
   },
   "file_extension": ".py",
   "mimetype": "text/x-python",
   "name": "python",
   "nbconvert_exporter": "python",
   "pygments_lexer": "ipython3",
   "version": "3.6.6"
  }
 },
 "nbformat": 4,
 "nbformat_minor": 2
}
