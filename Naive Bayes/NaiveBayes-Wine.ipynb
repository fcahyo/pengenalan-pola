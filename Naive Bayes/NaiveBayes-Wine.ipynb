{
 "cells": [
  {
   "cell_type": "code",
   "execution_count": 1,
   "metadata": {},
   "outputs": [],
   "source": [
    "import numpy as np\n",
    "import pandas as pd\n",
    "import matplotlib.pyplot as plt\n",
    "%matplotlib inline\n",
    "import seaborn as sns\n",
    "sns.set_style('whitegrid')\n",
    "import math"
   ]
  },
  {
   "cell_type": "code",
   "execution_count": 2,
   "metadata": {
    "scrolled": true
   },
   "outputs": [
    {
     "data": {
      "text/html": [
       "<div>\n",
       "<style scoped>\n",
       "    .dataframe tbody tr th:only-of-type {\n",
       "        vertical-align: middle;\n",
       "    }\n",
       "\n",
       "    .dataframe tbody tr th {\n",
       "        vertical-align: top;\n",
       "    }\n",
       "\n",
       "    .dataframe thead th {\n",
       "        text-align: right;\n",
       "    }\n",
       "</style>\n",
       "<table border=\"1\" class=\"dataframe\">\n",
       "  <thead>\n",
       "    <tr style=\"text-align: right;\">\n",
       "      <th></th>\n",
       "      <th>Class</th>\n",
       "      <th>Alcohol</th>\n",
       "      <th>Malic acid</th>\n",
       "      <th>Ash</th>\n",
       "      <th>Alcalinity of ash</th>\n",
       "      <th>Magnesium</th>\n",
       "      <th>Total phenols</th>\n",
       "      <th>Flavanoids</th>\n",
       "      <th>Nonflavanoid phenols</th>\n",
       "      <th>Proanthocyanins</th>\n",
       "      <th>Color intensity</th>\n",
       "      <th>Hue</th>\n",
       "      <th>OD280/OD315 of diluted wines</th>\n",
       "      <th>Proline</th>\n",
       "    </tr>\n",
       "  </thead>\n",
       "  <tbody>\n",
       "    <tr>\n",
       "      <th>0</th>\n",
       "      <td>1</td>\n",
       "      <td>14.23</td>\n",
       "      <td>1.71</td>\n",
       "      <td>2.43</td>\n",
       "      <td>15.6</td>\n",
       "      <td>127</td>\n",
       "      <td>2.80</td>\n",
       "      <td>3.06</td>\n",
       "      <td>0.28</td>\n",
       "      <td>2.29</td>\n",
       "      <td>5.64</td>\n",
       "      <td>1.04</td>\n",
       "      <td>3.92</td>\n",
       "      <td>1065</td>\n",
       "    </tr>\n",
       "    <tr>\n",
       "      <th>1</th>\n",
       "      <td>1</td>\n",
       "      <td>13.20</td>\n",
       "      <td>1.78</td>\n",
       "      <td>2.14</td>\n",
       "      <td>11.2</td>\n",
       "      <td>100</td>\n",
       "      <td>2.65</td>\n",
       "      <td>2.76</td>\n",
       "      <td>0.26</td>\n",
       "      <td>1.28</td>\n",
       "      <td>4.38</td>\n",
       "      <td>1.05</td>\n",
       "      <td>3.40</td>\n",
       "      <td>1050</td>\n",
       "    </tr>\n",
       "    <tr>\n",
       "      <th>2</th>\n",
       "      <td>1</td>\n",
       "      <td>13.16</td>\n",
       "      <td>2.36</td>\n",
       "      <td>2.67</td>\n",
       "      <td>18.6</td>\n",
       "      <td>101</td>\n",
       "      <td>2.80</td>\n",
       "      <td>3.24</td>\n",
       "      <td>0.30</td>\n",
       "      <td>2.81</td>\n",
       "      <td>5.68</td>\n",
       "      <td>1.03</td>\n",
       "      <td>3.17</td>\n",
       "      <td>1185</td>\n",
       "    </tr>\n",
       "    <tr>\n",
       "      <th>3</th>\n",
       "      <td>1</td>\n",
       "      <td>14.37</td>\n",
       "      <td>1.95</td>\n",
       "      <td>2.50</td>\n",
       "      <td>16.8</td>\n",
       "      <td>113</td>\n",
       "      <td>3.85</td>\n",
       "      <td>3.49</td>\n",
       "      <td>0.24</td>\n",
       "      <td>2.18</td>\n",
       "      <td>7.80</td>\n",
       "      <td>0.86</td>\n",
       "      <td>3.45</td>\n",
       "      <td>1480</td>\n",
       "    </tr>\n",
       "    <tr>\n",
       "      <th>4</th>\n",
       "      <td>1</td>\n",
       "      <td>13.24</td>\n",
       "      <td>2.59</td>\n",
       "      <td>2.87</td>\n",
       "      <td>21.0</td>\n",
       "      <td>118</td>\n",
       "      <td>2.80</td>\n",
       "      <td>2.69</td>\n",
       "      <td>0.39</td>\n",
       "      <td>1.82</td>\n",
       "      <td>4.32</td>\n",
       "      <td>1.04</td>\n",
       "      <td>2.93</td>\n",
       "      <td>735</td>\n",
       "    </tr>\n",
       "  </tbody>\n",
       "</table>\n",
       "</div>"
      ],
      "text/plain": [
       "   Class  Alcohol  Malic acid   Ash  Alcalinity of ash  Magnesium  \\\n",
       "0      1    14.23        1.71  2.43               15.6        127   \n",
       "1      1    13.20        1.78  2.14               11.2        100   \n",
       "2      1    13.16        2.36  2.67               18.6        101   \n",
       "3      1    14.37        1.95  2.50               16.8        113   \n",
       "4      1    13.24        2.59  2.87               21.0        118   \n",
       "\n",
       "   Total phenols  Flavanoids  Nonflavanoid phenols  Proanthocyanins  \\\n",
       "0           2.80        3.06                  0.28             2.29   \n",
       "1           2.65        2.76                  0.26             1.28   \n",
       "2           2.80        3.24                  0.30             2.81   \n",
       "3           3.85        3.49                  0.24             2.18   \n",
       "4           2.80        2.69                  0.39             1.82   \n",
       "\n",
       "   Color intensity   Hue  OD280/OD315 of diluted wines  Proline  \n",
       "0             5.64  1.04                          3.92     1065  \n",
       "1             4.38  1.05                          3.40     1050  \n",
       "2             5.68  1.03                          3.17     1185  \n",
       "3             7.80  0.86                          3.45     1480  \n",
       "4             4.32  1.04                          2.93      735  "
      ]
     },
     "execution_count": 2,
     "metadata": {},
     "output_type": "execute_result"
    }
   ],
   "source": [
    "df = pd.read_csv(\n",
    "    'https://archive.ics.uci.edu/ml/machine-learning-databases/wine/wine.data', \n",
    "     names=['Class', 'Alcohol', 'Malic acid',\n",
    "    'Ash', 'Alcalinity of ash', \n",
    "    'Magnesium', 'Total phenols', 'Flavanoids', \n",
    "    'Nonflavanoid phenols', 'Proanthocyanins', \n",
    "    'Color intensity', 'Hue', \n",
    "    'OD280/OD315 of diluted wines', \n",
    "    'Proline'])\n",
    "df.head()"
   ]
  },
  {
   "cell_type": "code",
   "execution_count": 3,
   "metadata": {},
   "outputs": [
    {
     "data": {
      "text/plain": [
       "Text(0.5,0,'Class')"
      ]
     },
     "execution_count": 3,
     "metadata": {},
     "output_type": "execute_result"
    },
    {
     "data": {
      "image/png": "[encoded data removed]",
      "text/plain": [
       "<Figure size 432x288 with 1 Axes>"
      ]
     },
     "metadata": {},
     "output_type": "display_data"
    }
   ],
   "source": [
    "class_count = df['Class'].value_counts()\n",
    "sns.barplot(class_count.index, class_count.values, alpha=0.9)\n",
    "plt.title('Frequency Distribution of Class')\n",
    "plt.ylabel('Number of Occurrences', fontsize=12)\n",
    "plt.xlabel('Class', fontsize=12)"
   ]
  },
  {
   "cell_type": "markdown",
   "metadata": {},
   "source": [
    "## Hitung Manual Tanpa Library"
   ]
  },
  {
   "cell_type": "code",
   "execution_count": 4,
   "metadata": {},
   "outputs": [],
   "source": [
    "n_class1 = df['Class'][df['Class'] == 1].count()\n",
    "n_class2 = df['Class'][df['Class'] == 2].count()\n",
    "n_class3 = df['Class'][df['Class'] == 3].count()\n",
    "\n",
    "total_class = df['Class'].count()"
   ]
  },
  {
   "cell_type": "code",
   "execution_count": 5,
   "metadata": {},
   "outputs": [
    {
     "data": {
      "text/plain": [
       "(59, 71, 48)"
      ]
     },
     "execution_count": 5,
     "metadata": {},
     "output_type": "execute_result"
    }
   ],
   "source": [
    "n_class1, n_class2, n_class3"
   ]
  },
  {
   "cell_type": "code",
   "execution_count": 6,
   "metadata": {},
   "outputs": [],
   "source": [
    "P_class1 = n_class1 / total_class\n",
    "P_class2 = n_class2 / total_class\n",
    "P_class3 = n_class3 / total_class"
   ]
  },
  {
   "cell_type": "code",
   "execution_count": 7,
   "metadata": {},
   "outputs": [
    {
     "name": "stdout",
     "output_type": "stream",
     "text": [
      "Probabilitas prior\n",
      "Class 1 :  0.33146067415730335\n",
      "Class 2 :  0.398876404494382\n",
      "Class 3 :  0.2696629213483146\n"
     ]
    }
   ],
   "source": [
    "print('Probabilitas prior')\n",
    "print('Class 1 : ',P_class1)\n",
    "print('Class 2 : ',P_class2)\n",
    "print('Class 3 : ',P_class3)"
   ]
  },
  {
   "cell_type": "code",
   "execution_count": 8,
   "metadata": {
    "scrolled": true
   },
   "outputs": [
    {
     "data": {
      "text/plain": [
       "(-1.122924334903613, 1.10109163499541, -1.1104096067418847, 1.1020683589053433)"
      ]
     },
     "execution_count": 8,
     "metadata": {},
     "output_type": "execute_result"
    },
    {
     "data": {
      "image/png": "[encoded data removed]",
      "text/plain": [
       "<Figure size 432x288 with 1 Axes>"
      ]
     },
     "metadata": {},
     "output_type": "display_data"
    }
   ],
   "source": [
    "labels = df['Class'].astype('category').cat.categories.tolist()\n",
    "counts = df['Class'].value_counts()\n",
    "sizes = [counts[var_cat] for var_cat in labels]\n",
    "fig1, ax1 = plt.subplots()\n",
    "ax1.pie(sizes, labels=labels, autopct='%1.1f%%', shadow=True) #autopct is show the % on plot\n",
    "ax1.axis('equal')"
   ]
  },
  {
   "cell_type": "markdown",
   "metadata": {},
   "source": [
    "#### Mengelompokkan data berdasarkan class dan menghitung mean"
   ]
  },
  {
   "cell_type": "code",
   "execution_count": 9,
   "metadata": {},
   "outputs": [
    {
     "data": {
      "text/html": [
       "<div>\n",
       "<style scoped>\n",
       "    .dataframe tbody tr th:only-of-type {\n",
       "        vertical-align: middle;\n",
       "    }\n",
       "\n",
       "    .dataframe tbody tr th {\n",
       "        vertical-align: top;\n",
       "    }\n",
       "\n",
       "    .dataframe thead th {\n",
       "        text-align: right;\n",
       "    }\n",
       "</style>\n",
       "<table border=\"1\" class=\"dataframe\">\n",
       "  <thead>\n",
       "    <tr style=\"text-align: right;\">\n",
       "      <th></th>\n",
       "      <th>Class</th>\n",
       "      <th>Alcohol</th>\n",
       "      <th>Malic acid</th>\n",
       "      <th>Ash</th>\n",
       "      <th>Alcalinity of ash</th>\n",
       "      <th>Magnesium</th>\n",
       "      <th>Total phenols</th>\n",
       "      <th>Flavanoids</th>\n",
       "      <th>Nonflavanoid phenols</th>\n",
       "      <th>Proanthocyanins</th>\n",
       "      <th>Color intensity</th>\n",
       "      <th>Hue</th>\n",
       "      <th>OD280/OD315 of diluted wines</th>\n",
       "      <th>Proline</th>\n",
       "    </tr>\n",
       "  </thead>\n",
       "  <tbody>\n",
       "    <tr>\n",
       "      <th>0</th>\n",
       "      <td>1</td>\n",
       "      <td>13.744746</td>\n",
       "      <td>2.010678</td>\n",
       "      <td>2.455593</td>\n",
       "      <td>17.037288</td>\n",
       "      <td>106.338983</td>\n",
       "      <td>2.840169</td>\n",
       "      <td>2.982373</td>\n",
       "      <td>0.290000</td>\n",
       "      <td>1.899322</td>\n",
       "      <td>5.528305</td>\n",
       "      <td>1.062034</td>\n",
       "      <td>3.157797</td>\n",
       "      <td>1115.711864</td>\n",
       "    </tr>\n",
       "    <tr>\n",
       "      <th>1</th>\n",
       "      <td>2</td>\n",
       "      <td>12.278732</td>\n",
       "      <td>1.932676</td>\n",
       "      <td>2.244789</td>\n",
       "      <td>20.238028</td>\n",
       "      <td>94.549296</td>\n",
       "      <td>2.258873</td>\n",
       "      <td>2.080845</td>\n",
       "      <td>0.363662</td>\n",
       "      <td>1.630282</td>\n",
       "      <td>3.086620</td>\n",
       "      <td>1.056282</td>\n",
       "      <td>2.785352</td>\n",
       "      <td>519.507042</td>\n",
       "    </tr>\n",
       "    <tr>\n",
       "      <th>2</th>\n",
       "      <td>3</td>\n",
       "      <td>13.153750</td>\n",
       "      <td>3.333750</td>\n",
       "      <td>2.437083</td>\n",
       "      <td>21.416667</td>\n",
       "      <td>99.312500</td>\n",
       "      <td>1.678750</td>\n",
       "      <td>0.781458</td>\n",
       "      <td>0.447500</td>\n",
       "      <td>1.153542</td>\n",
       "      <td>7.396250</td>\n",
       "      <td>0.682708</td>\n",
       "      <td>1.683542</td>\n",
       "      <td>629.895833</td>\n",
       "    </tr>\n",
       "  </tbody>\n",
       "</table>\n",
       "</div>"
      ],
      "text/plain": [
       "   Class    Alcohol  Malic acid       Ash  Alcalinity of ash   Magnesium  \\\n",
       "0      1  13.744746    2.010678  2.455593          17.037288  106.338983   \n",
       "1      2  12.278732    1.932676  2.244789          20.238028   94.549296   \n",
       "2      3  13.153750    3.333750  2.437083          21.416667   99.312500   \n",
       "\n",
       "   Total phenols  Flavanoids  Nonflavanoid phenols  Proanthocyanins  \\\n",
       "0       2.840169    2.982373              0.290000         1.899322   \n",
       "1       2.258873    2.080845              0.363662         1.630282   \n",
       "2       1.678750    0.781458              0.447500         1.153542   \n",
       "\n",
       "   Color intensity       Hue  OD280/OD315 of diluted wines      Proline  \n",
       "0         5.528305  1.062034                      3.157797  1115.711864  \n",
       "1         3.086620  1.056282                      2.785352   519.507042  \n",
       "2         7.396250  0.682708                      1.683542   629.895833  "
      ]
     },
     "execution_count": 9,
     "metadata": {},
     "output_type": "execute_result"
    }
   ],
   "source": [
    "data_means = df.groupby('Class', as_index=False).mean()\n",
    "\n",
    "data_means"
   ]
  },
  {
   "cell_type": "markdown",
   "metadata": {},
   "source": [
    "#### Mengelompokkan data berdasarkan class dan menghitung variance"
   ]
  },
  {
   "cell_type": "code",
   "execution_count": 10,
   "metadata": {},
   "outputs": [
    {
     "data": {
      "text/html": [
       "<div>\n",
       "<style scoped>\n",
       "    .dataframe tbody tr th:only-of-type {\n",
       "        vertical-align: middle;\n",
       "    }\n",
       "\n",
       "    .dataframe tbody tr th {\n",
       "        vertical-align: top;\n",
       "    }\n",
       "\n",
       "    .dataframe thead th {\n",
       "        text-align: right;\n",
       "    }\n",
       "</style>\n",
       "<table border=\"1\" class=\"dataframe\">\n",
       "  <thead>\n",
       "    <tr style=\"text-align: right;\">\n",
       "      <th></th>\n",
       "      <th>Class</th>\n",
       "      <th>Alcohol</th>\n",
       "      <th>Malic acid</th>\n",
       "      <th>Ash</th>\n",
       "      <th>Alcalinity of ash</th>\n",
       "      <th>Magnesium</th>\n",
       "      <th>Total phenols</th>\n",
       "      <th>Flavanoids</th>\n",
       "      <th>Nonflavanoid phenols</th>\n",
       "      <th>Proanthocyanins</th>\n",
       "      <th>Color intensity</th>\n",
       "      <th>Hue</th>\n",
       "      <th>OD280/OD315 of diluted wines</th>\n",
       "      <th>Proline</th>\n",
       "    </tr>\n",
       "  </thead>\n",
       "  <tbody>\n",
       "    <tr>\n",
       "      <th>0</th>\n",
       "      <td>1</td>\n",
       "      <td>0.213560</td>\n",
       "      <td>0.474100</td>\n",
       "      <td>0.051604</td>\n",
       "      <td>6.483758</td>\n",
       "      <td>110.227937</td>\n",
       "      <td>0.114895</td>\n",
       "      <td>0.158001</td>\n",
       "      <td>0.004907</td>\n",
       "      <td>0.169834</td>\n",
       "      <td>1.534063</td>\n",
       "      <td>0.013568</td>\n",
       "      <td>0.127504</td>\n",
       "      <td>49071.450029</td>\n",
       "    </tr>\n",
       "    <tr>\n",
       "      <th>1</th>\n",
       "      <td>2</td>\n",
       "      <td>0.289406</td>\n",
       "      <td>1.031380</td>\n",
       "      <td>0.099520</td>\n",
       "      <td>11.220962</td>\n",
       "      <td>280.679678</td>\n",
       "      <td>0.297419</td>\n",
       "      <td>0.498014</td>\n",
       "      <td>0.015366</td>\n",
       "      <td>0.362486</td>\n",
       "      <td>0.855494</td>\n",
       "      <td>0.041183</td>\n",
       "      <td>0.246585</td>\n",
       "      <td>24715.367807</td>\n",
       "    </tr>\n",
       "    <tr>\n",
       "      <th>2</th>\n",
       "      <td>3</td>\n",
       "      <td>0.281156</td>\n",
       "      <td>1.183539</td>\n",
       "      <td>0.034110</td>\n",
       "      <td>5.099291</td>\n",
       "      <td>118.602394</td>\n",
       "      <td>0.127428</td>\n",
       "      <td>0.086145</td>\n",
       "      <td>0.015411</td>\n",
       "      <td>0.167147</td>\n",
       "      <td>5.340454</td>\n",
       "      <td>0.013097</td>\n",
       "      <td>0.074045</td>\n",
       "      <td>13247.329344</td>\n",
       "    </tr>\n",
       "  </tbody>\n",
       "</table>\n",
       "</div>"
      ],
      "text/plain": [
       "   Class   Alcohol  Malic acid       Ash  Alcalinity of ash   Magnesium  \\\n",
       "0      1  0.213560    0.474100  0.051604           6.483758  110.227937   \n",
       "1      2  0.289406    1.031380  0.099520          11.220962  280.679678   \n",
       "2      3  0.281156    1.183539  0.034110           5.099291  118.602394   \n",
       "\n",
       "   Total phenols  Flavanoids  Nonflavanoid phenols  Proanthocyanins  \\\n",
       "0       0.114895    0.158001              0.004907         0.169834   \n",
       "1       0.297419    0.498014              0.015366         0.362486   \n",
       "2       0.127428    0.086145              0.015411         0.167147   \n",
       "\n",
       "   Color intensity       Hue  OD280/OD315 of diluted wines       Proline  \n",
       "0         1.534063  0.013568                      0.127504  49071.450029  \n",
       "1         0.855494  0.041183                      0.246585  24715.367807  \n",
       "2         5.340454  0.013097                      0.074045  13247.329344  "
      ]
     },
     "execution_count": 10,
     "metadata": {},
     "output_type": "execute_result"
    }
   ],
   "source": [
    "data_variance = df.groupby('Class', as_index=False).var()\n",
    "\n",
    "data_variance"
   ]
  },
  {
   "cell_type": "code",
   "execution_count": 11,
   "metadata": {},
   "outputs": [],
   "source": [
    "# Create a function that calculates p(x | y):\n",
    "def p_x_given_y(x, mean_y, variance_y):    \n",
    "    for i in range(mean_y.shape[0]):\n",
    "        for j in range(mean_y.shape[1]):\n",
    "            p = 1/(np.sqrt(2*np.pi*variance_y.iloc[i][j])) * \\\n",
    "                np.exp((-(x[j]-mean_y.iloc[i][j])**2)\\\n",
    "                       /(2*variance_y.iloc[i][j]))\n",
    "            if (j != 0):\n",
    "                p *= p\n",
    "    return p"
   ]
  },
  {
   "cell_type": "code",
   "execution_count": 12,
   "metadata": {},
   "outputs": [],
   "source": [
    "def predict(p1, p2, p3):\n",
    "    Max = p1\n",
    "    result = \"Data terbaru masuk ke kelas 1\"\n",
    "    if p2 > Max:\n",
    "        Max = p2\n",
    "        result = \"Data terbaru masuk ke kelas 2\"\n",
    "    if p3 > Max:\n",
    "        Max = p3\n",
    "        result = \"Data terbaru masuk ke kelas 3\"\n",
    "        if p2 > p3:\n",
    "            Max = p2\n",
    "            result = \"Data terbaru masuk ke kelas 2\"\n",
    "    return result"
   ]
  },
  {
   "cell_type": "markdown",
   "metadata": {},
   "source": [
    "#### Misal, kita ingin memprediksi wine dengan nilai dari setiap fitur berikut terklasifikasi sebagai kelas apa:\n",
    "- Alcohol : 12.98\n",
    "- Malic acid : 4.78\n",
    "- Ash : 3.33\n",
    "- Alcalinity of ash : 11.11\n",
    "- Magnesium : 99\n",
    "- Total phenols : 2.22\n",
    "- Flavanoids : 4.44\n",
    "- Nonflavanoid phenols : 0.55\n",
    "- Proanthocyanins : 1.11\n",
    "- Color intensity : 5.55\n",
    "- Hue : 0.99\n",
    "- OD280/OD315 of diluted wines : 2.87\n",
    "- Proline : 999"
   ]
  },
  {
   "cell_type": "code",
   "execution_count": 13,
   "metadata": {},
   "outputs": [],
   "source": [
    "y = np.array([12.98, 4.78, 3.33, 11.11, 99, 2.22, 4.44, 0.55, 1.11, 5.55, 0.99, 2.87, 999])                 "
   ]
  },
  {
   "cell_type": "markdown",
   "metadata": {},
   "source": [
    "#### Calculate Mean and Variance for Each Class"
   ]
  },
  {
   "cell_type": "code",
   "execution_count": 14,
   "metadata": {},
   "outputs": [],
   "source": [
    "class1_means = data_means[data_means['Class'] == 1]\n",
    "class1_means = class1_means.drop('Class', axis=1)\n",
    "\n",
    "class2_means = data_means[data_means['Class'] == 2]\n",
    "class2_means = class2_means.drop('Class', axis=1)\n",
    "\n",
    "class3_means = data_means[data_means['Class'] == 3]\n",
    "class3_means = class3_means.drop('Class', axis=1)"
   ]
  },
  {
   "cell_type": "code",
   "execution_count": 15,
   "metadata": {},
   "outputs": [],
   "source": [
    "class1_variance = data_variance[data_variance['Class'] == 1]\n",
    "class1_variance = class1_variance.drop('Class', axis = 1)\n",
    "\n",
    "class2_variance = data_variance[data_variance['Class'] == 2]\n",
    "class2_variance = class2_variance.drop('Class', axis = 1)\n",
    "\n",
    "class3_variance = data_variance[data_variance['Class'] == 3]\n",
    "class3_variance = class3_variance.drop('Class', axis = 1)"
   ]
  },
  {
   "cell_type": "code",
   "execution_count": 16,
   "metadata": {},
   "outputs": [],
   "source": [
    "class1_posterior = P_class1 * p_x_given_y(y, class1_means, class1_variance)\n",
    "class2_posterior = P_class2 * p_x_given_y(y, class2_means, class2_variance)\n",
    "class3_posterior = P_class3 * p_x_given_y(y, class3_means, class3_variance)"
   ]
  },
  {
   "cell_type": "code",
   "execution_count": 17,
   "metadata": {},
   "outputs": [
    {
     "data": {
      "text/plain": [
       "(8.144570603949334e-07, 2.3425468643411857e-10, 1.1070099163261704e-10)"
      ]
     },
     "execution_count": 17,
     "metadata": {},
     "output_type": "execute_result"
    }
   ],
   "source": [
    "class1_posterior, class2_posterior, class3_posterior"
   ]
  },
  {
   "cell_type": "code",
   "execution_count": 18,
   "metadata": {},
   "outputs": [
    {
     "data": {
      "text/plain": [
       "'Data terbaru masuk ke kelas 1'"
      ]
     },
     "execution_count": 18,
     "metadata": {},
     "output_type": "execute_result"
    }
   ],
   "source": [
    "predict(class1_posterior, class2_posterior, class3_posterior)"
   ]
  },
  {
   "cell_type": "markdown",
   "metadata": {},
   "source": [
    "# Using Library"
   ]
  },
  {
   "cell_type": "code",
   "execution_count": 19,
   "metadata": {},
   "outputs": [],
   "source": [
    "from sklearn.model_selection import train_test_split\n",
    "from sklearn.naive_bayes import GaussianNB, BernoulliNB, MultinomialNB\n",
    "from sklearn.metrics import classification_report"
   ]
  },
  {
   "cell_type": "code",
   "execution_count": 20,
   "metadata": {},
   "outputs": [],
   "source": [
    "from sklearn.metrics import accuracy_score"
   ]
  },
  {
   "cell_type": "markdown",
   "metadata": {},
   "source": [
    "# Train Test Split"
   ]
  },
  {
   "cell_type": "code",
   "execution_count": 21,
   "metadata": {},
   "outputs": [],
   "source": [
    "X = df.drop('Class', axis=1)\n",
    "y = df['Class']"
   ]
  },
  {
   "cell_type": "code",
   "execution_count": 22,
   "metadata": {},
   "outputs": [],
   "source": [
    "# Split dataset in training and test datasets\n",
    "X1_train, X1_test, y1_train, y1_test = train_test_split(X, y, test_size = 0.9, random_state = 0)\n",
    "X2_train, X2_test, y2_train, y2_test = train_test_split(X, y, test_size = 0.7, random_state = 0)\n",
    "X3_train, X3_test, y3_train, y3_test = train_test_split(X, y, test_size = 0.4, random_state = 0)\n",
    "X4_train, X4_test, y4_train, y4_test = train_test_split(X, y, test_size = 0.2, random_state = 0)"
   ]
  },
  {
   "cell_type": "markdown",
   "metadata": {},
   "source": [
    "## Frekuensi Distribusi Kelas Setiap Percobaan"
   ]
  },
  {
   "cell_type": "code",
   "execution_count": 23,
   "metadata": {},
   "outputs": [
    {
     "data": {
      "image/png": "[encoded data removed]",
      "text/plain": [
       "<Figure size 432x288 with 4 Axes>"
      ]
     },
     "metadata": {},
     "output_type": "display_data"
    }
   ],
   "source": [
    "y1_count = y1_train.value_counts()\n",
    "plt.subplot(221)\n",
    "sns.barplot(y1_count.index, y1_count.values, alpha=0.9)\n",
    "plt.title('Percobaan 1')\n",
    "plt.ylabel('Jumlah', fontsize=12)\n",
    "plt.xlabel('Class', fontsize=12)\n",
    "y2_count = y2_train.value_counts()\n",
    "plt.subplot(222)\n",
    "sns.barplot(y2_count.index, y2_count.values, alpha=0.9)\n",
    "plt.title('Percobaan 2')\n",
    "plt.ylabel('Jumlah', fontsize=12)\n",
    "plt.xlabel('Class', fontsize=12)\n",
    "y3_count = y3_train.value_counts()\n",
    "plt.subplot(223)\n",
    "sns.barplot(y3_count.index, y3_count.values, alpha=0.9)\n",
    "plt.title('Percobaan 3')\n",
    "plt.ylabel('Jumlah', fontsize=12)\n",
    "plt.xlabel('Class', fontsize=12)\n",
    "y4_count = y4_train.value_counts()\n",
    "plt.subplot(224)\n",
    "sns.barplot(y4_count.index, y4_count.values, alpha=0.9)\n",
    "plt.title('Percobaan 4')\n",
    "plt.ylabel('Jumlah', fontsize=12)\n",
    "plt.xlabel('Class', fontsize=12)\n",
    "plt.tight_layout()"
   ]
  },
  {
   "cell_type": "code",
   "execution_count": 25,
   "metadata": {},
   "outputs": [
    {
     "data": {
      "text/html": [
       "<div>\n",
       "<style scoped>\n",
       "    .dataframe tbody tr th:only-of-type {\n",
       "        vertical-align: middle;\n",
       "    }\n",
       "\n",
       "    .dataframe tbody tr th {\n",
       "        vertical-align: top;\n",
       "    }\n",
       "\n",
       "    .dataframe thead th {\n",
       "        text-align: right;\n",
       "    }\n",
       "</style>\n",
       "<table border=\"1\" class=\"dataframe\">\n",
       "  <thead>\n",
       "    <tr style=\"text-align: right;\">\n",
       "      <th></th>\n",
       "      <th>Training Set</th>\n",
       "      <th>Test Set</th>\n",
       "    </tr>\n",
       "    <tr>\n",
       "      <th>Percobaan</th>\n",
       "      <th></th>\n",
       "      <th></th>\n",
       "    </tr>\n",
       "  </thead>\n",
       "  <tbody>\n",
       "    <tr>\n",
       "      <th>1</th>\n",
       "      <td>17</td>\n",
       "      <td>161</td>\n",
       "    </tr>\n",
       "    <tr>\n",
       "      <th>2</th>\n",
       "      <td>53</td>\n",
       "      <td>125</td>\n",
       "    </tr>\n",
       "    <tr>\n",
       "      <th>3</th>\n",
       "      <td>106</td>\n",
       "      <td>72</td>\n",
       "    </tr>\n",
       "    <tr>\n",
       "      <th>4</th>\n",
       "      <td>142</td>\n",
       "      <td>36</td>\n",
       "    </tr>\n",
       "  </tbody>\n",
       "</table>\n",
       "</div>"
      ],
      "text/plain": [
       "           Training Set  Test Set\n",
       "Percobaan                        \n",
       "1                    17       161\n",
       "2                    53       125\n",
       "3                   106        72\n",
       "4                   142        36"
      ]
     },
     "execution_count": 25,
     "metadata": {},
     "output_type": "execute_result"
    }
   ],
   "source": [
    "table = pd.DataFrame({'Percobaan': [1,2,3,4],\n",
    "              'Training Set': [X1_train.shape[0], X2_train.shape[0], X3_train.shape[0], X4_train.shape[0]],\n",
    "              'Test Set': [X1_test.shape[0], X2_test.shape[0], X3_test.shape[0], X4_test.shape[0]]})\n",
    "table.set_index('Percobaan')"
   ]
  },
  {
   "cell_type": "code",
   "execution_count": 26,
   "metadata": {},
   "outputs": [
    {
     "name": "stdout",
     "output_type": "stream",
     "text": [
      "Accuracy 1 : 90.6832298136646\n",
      "             precision    recall  f1-score   support\n",
      "\n",
      "          1       0.84      0.96      0.89        53\n",
      "          2       0.95      0.81      0.87        64\n",
      "          3       0.96      0.98      0.97        44\n",
      "\n",
      "avg / total       0.91      0.91      0.91       161\n",
      "\n",
      "Accuracy 2 : 96.8\n",
      "             precision    recall  f1-score   support\n",
      "\n",
      "          1       0.95      1.00      0.98        42\n",
      "          2       1.00      0.92      0.96        52\n",
      "          3       0.94      1.00      0.97        31\n",
      "\n",
      "avg / total       0.97      0.97      0.97       125\n",
      "\n",
      "Accuracy 3 : 94.44444444444444\n",
      "             precision    recall  f1-score   support\n",
      "\n",
      "          1       0.92      1.00      0.96        22\n",
      "          2       1.00      0.87      0.93        31\n",
      "          3       0.90      1.00      0.95        19\n",
      "\n",
      "avg / total       0.95      0.94      0.94        72\n",
      "\n",
      "Accuracy 4 : 91.66666666666666\n",
      "             precision    recall  f1-score   support\n",
      "\n",
      "          1       0.88      1.00      0.93        14\n",
      "          2       1.00      0.81      0.90        16\n",
      "          3       0.86      1.00      0.92         6\n",
      "\n",
      "avg / total       0.93      0.92      0.92        36\n",
      "\n"
     ]
    }
   ],
   "source": [
    "# Instantiate the classifier\n",
    "gnb = GaussianNB()\n",
    "\n",
    "# Train classifier\n",
    "gnb.fit(X1_train, y1_train)\n",
    "y1_pred = gnb.predict(X1_test)\n",
    "acc1 = gnb.score(X1_test, y1_test) * 100\n",
    "print(\"Accuracy 1 :\", acc1)\n",
    "print(classification_report(y1_test,y1_pred))\n",
    "\n",
    "gnb.fit(X2_train, y2_train)\n",
    "y2_pred = gnb.predict(X2_test)\n",
    "acc2 = gnb.score(X2_test, y2_test) * 100\n",
    "print(\"Accuracy 2 :\", acc2)\n",
    "print(classification_report(y2_test,y2_pred))\n",
    "\n",
    "gnb.fit(X3_train, y3_train)\n",
    "y3_pred = gnb.predict(X3_test)\n",
    "acc3 = gnb.score(X3_test, y3_test) * 100\n",
    "print(\"Accuracy 3 :\", acc3)\n",
    "print(classification_report(y3_test,y3_pred))\n",
    "\n",
    "gnb.fit(X4_train, y4_train)\n",
    "y4_pred = gnb.predict(X4_test)\n",
    "acc4 = gnb.score(X4_test, y4_test) * 100\n",
    "print(\"Accuracy 4 :\", acc4)\n",
    "print(classification_report(y4_test,y4_pred))"
   ]
  },
  {
   "cell_type": "markdown",
   "metadata": {},
   "source": [
    "## Hasil akurasi setiap percobaan"
   ]
  },
  {
   "cell_type": "code",
   "execution_count": 27,
   "metadata": {},
   "outputs": [
    {
     "data": {
      "text/html": [
       "<div>\n",
       "<style scoped>\n",
       "    .dataframe tbody tr th:only-of-type {\n",
       "        vertical-align: middle;\n",
       "    }\n",
       "\n",
       "    .dataframe tbody tr th {\n",
       "        vertical-align: top;\n",
       "    }\n",
       "\n",
       "    .dataframe thead th {\n",
       "        text-align: right;\n",
       "    }\n",
       "</style>\n",
       "<table border=\"1\" class=\"dataframe\">\n",
       "  <thead>\n",
       "    <tr style=\"text-align: right;\">\n",
       "      <th></th>\n",
       "      <th>Accuracy Score</th>\n",
       "    </tr>\n",
       "    <tr>\n",
       "      <th>Percobaan</th>\n",
       "      <th></th>\n",
       "    </tr>\n",
       "  </thead>\n",
       "  <tbody>\n",
       "    <tr>\n",
       "      <th>1</th>\n",
       "      <td>90.683230</td>\n",
       "    </tr>\n",
       "    <tr>\n",
       "      <th>2</th>\n",
       "      <td>96.800000</td>\n",
       "    </tr>\n",
       "    <tr>\n",
       "      <th>3</th>\n",
       "      <td>94.444444</td>\n",
       "    </tr>\n",
       "    <tr>\n",
       "      <th>4</th>\n",
       "      <td>91.666667</td>\n",
       "    </tr>\n",
       "  </tbody>\n",
       "</table>\n",
       "</div>"
      ],
      "text/plain": [
       "           Accuracy Score\n",
       "Percobaan                \n",
       "1               90.683230\n",
       "2               96.800000\n",
       "3               94.444444\n",
       "4               91.666667"
      ]
     },
     "execution_count": 27,
     "metadata": {},
     "output_type": "execute_result"
    }
   ],
   "source": [
    "acc_score = [acc1, acc2, acc3, acc4]\n",
    "acc_table = pd.DataFrame({'Percobaan':[1,2,3,4],\n",
    "                         'Accuracy Score': acc_score})\n",
    "\n",
    "acc_table.set_index('Percobaan')"
   ]
  },
  {
   "cell_type": "code",
   "execution_count": 34,
   "metadata": {},
   "outputs": [
    {
     "data": {
      "text/plain": [
       "([<matplotlib.axis.YTick at 0x2175117ee80>,\n",
       "  <matplotlib.axis.YTick at 0x21751173048>,\n",
       "  <matplotlib.axis.YTick at 0x2175117acf8>,\n",
       "  <matplotlib.axis.YTick at 0x217511b7ef0>,\n",
       "  <matplotlib.axis.YTick at 0x217511b7630>,\n",
       "  <matplotlib.axis.YTick at 0x217511bd550>,\n",
       "  <matplotlib.axis.YTick at 0x217511bda58>,\n",
       "  <matplotlib.axis.YTick at 0x217511bdf60>,\n",
       "  <matplotlib.axis.YTick at 0x217511c44a8>,\n",
       "  <matplotlib.axis.YTick at 0x217511c49b0>,\n",
       "  <matplotlib.axis.YTick at 0x217511c4eb8>],\n",
       " <a list of 11 Text yticklabel objects>)"
      ]
     },
     "execution_count": 34,
     "metadata": {},
     "output_type": "execute_result"
    },
    {
     "data": {
      "image/png": "[encoded data removed]",
      "text/plain": [
       "<Figure size 432x288 with 1 Axes>"
      ]
     },
     "metadata": {},
     "output_type": "display_data"
    }
   ],
   "source": [
    "sns.barplot(x=acc_table['Percobaan'], y=acc_table['Accuracy Score'])\n",
    "plt.yticks(np.arange(0,101,10))"
   ]
  }
 ],
 "metadata": {
  "kernelspec": {
   "display_name": "Python 3",
   "language": "python",
   "name": "python3"
  },
  "language_info": {
   "codemirror_mode": {
    "name": "ipython",
    "version": 3
   },
   "file_extension": ".py",
   "mimetype": "text/x-python",
   "name": "python",
   "nbconvert_exporter": "python",
   "pygments_lexer": "ipython3",
   "version": "3.6.6"
  }
 },
 "nbformat": 4,
 "nbformat_minor": 2
}
